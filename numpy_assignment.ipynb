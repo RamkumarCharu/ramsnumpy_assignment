{
 "cells": [
  {
   "cell_type": "code",
   "execution_count": 63,
   "metadata": {},
   "outputs": [],
   "source": [
    "import numpy as np"
   ]
  },
  {
   "cell_type": "markdown",
   "metadata": {},
   "source": [
    "2 . Difference between Numpy and List in Python \n",
    "\n",
    "Data Type:\n",
    "--------------------------\n",
    "NumPy arrays are typed arrays. They store homogeneous, densely packed numerical data. In other words, all elements in a NumPy array must have the same data type.\n",
    "Python lists, on the other hand, are heterogeneous. They can hold elements of varying data types.\n",
    "\n",
    "Memory Efficiency:\n",
    "--------------------------\n",
    "NumPy arrays are more memory-efficient. They store data in a contiguous manner, which reduces memory overhead.\n",
    "Python lists store additional information about each element, such as type and reference count. This overhead can be significant when dealing with a large number of elements.\n",
    "\n",
    "Element-wise Operations:\n",
    "--------------------------\n",
    "NumPy arrays allow element-wise operations. You can perform mathematical operations on entire arrays efficiently.\n",
    "Python lists do not support element-wise operations directly. You need to iterate through the list to perform operations on individual elements.\n",
    "\n",
    "Performance:\n",
    "--------------------------\n",
    "NumPy arrays are optimized for numerical computations. They execute mathematical operations more efficiently than Python lists due to lower interpretation overhead.\n",
    "Python lists are general-purpose data structures and are not specifically designed for numerical computations.\n",
    "\n",
    "Memory Allocation:\n",
    "--------------------------\n",
    "NumPy arrays allocate memory contiguously, ensuring better performance.\n",
    "Python lists may not store elements in contiguous memory locations, leading to memory fragmentation and inefficiency.\n",
    "\n",
    "In summary, if you’re working with large datasets and need efficient numerical operations, NumPy arrays are the way to go. However, if flexibility and heterogeneous data types are essential, Python lists remain a versatile choice"
   ]
  },
  {
   "cell_type": "code",
   "execution_count": 64,
   "metadata": {},
   "outputs": [
    {
     "name": "stdout",
     "output_type": "stream",
     "text": [
      "array is \n",
      " [[ 1  2  3  4]\n",
      " [ 5  6  7  8]\n",
      " [ 9 10 11 12]]\n",
      "Shape of the array is  (3, 4)\n",
      "Size of the array is  12\n",
      "Dimension of the array is  2\n"
     ]
    }
   ],
   "source": [
    "# 3. Find the shape, size and dimension of the following array?\n",
    "ar3 = np.array([[1, 2, 3, 4],\n",
    "[5, 6, 7, 8],\n",
    "[9, 10, 11, 12]])\n",
    "print(f'array is \\n {ar3}')\n",
    "\n",
    "print(f'Shape of the array is  {ar3.shape}')\n",
    "print(f'Size of the array is  {ar3.size}')\n",
    "print(f'Dimension of the array is  {ar3.ndim}')"
   ]
  },
  {
   "cell_type": "code",
   "execution_count": 65,
   "metadata": {},
   "outputs": [
    {
     "name": "stdout",
     "output_type": "stream",
     "text": [
      "array is \n",
      " [[ 1  2  3  4]\n",
      " [ 5  6  7  8]\n",
      " [ 9 10 11 12]]\n",
      "First row of the array is [1 2 3 4]\n",
      "First row of the array in a list is [1, 2, 3, 4]\n"
     ]
    }
   ],
   "source": [
    "# 4. Write python code to access the first row of the following array?\n",
    "ar4 = np.array([[1, 2, 3, 4],\n",
    "[5, 6, 7, 8],\n",
    "[9, 10, 11, 12]])\n",
    "print(f'array is \\n {ar4}')\n",
    "\n",
    "print(f'First row of the array is {ar4[0]}')\n",
    "print(f'First row of the array in a list is {[i for i in ar4[0]]}')\n"
   ]
  },
  {
   "cell_type": "code",
   "execution_count": 66,
   "metadata": {},
   "outputs": [
    {
     "name": "stdout",
     "output_type": "stream",
     "text": [
      "array is \n",
      " [[ 1  2  3  4]\n",
      " [ 5  6  7  8]\n",
      " [ 9 10 11 12]]\n",
      "The element at the third row and fourth column is: 12\n"
     ]
    }
   ],
   "source": [
    "# 5. How do you access the element at the third row and fourth column from the given numpy array?\n",
    "ar5 = np.array([[1, 2, 3, 4],\n",
    "[5, 6, 7, 8],\n",
    "[9, 10, 11, 12]])\n",
    "print(f'array is \\n {ar5}')\n",
    "\n",
    "ele = ar5[2,3]\n",
    "print(f\"The element at the third row and fourth column is: {ele}\")\n"
   ]
  },
  {
   "cell_type": "code",
   "execution_count": 67,
   "metadata": {},
   "outputs": [
    {
     "name": "stdout",
     "output_type": "stream",
     "text": [
      "array is \n",
      " [[ 1  2  3  4]\n",
      " [ 5  6  7  8]\n",
      " [ 9 10 11 12]]\n"
     ]
    },
    {
     "data": {
      "text/plain": [
       "array([[5, 6, 7, 8]])"
      ]
     },
     "execution_count": 67,
     "metadata": {},
     "output_type": "execute_result"
    }
   ],
   "source": [
    "# 6. Write code to extract all od-indexed elements from the given numpy array?\n",
    "ar6 = np.array([[1, 2, 3, 4],\n",
    "[5, 6, 7, 8],\n",
    "[9, 10, 11, 12]])\n",
    "print(f'array is \\n {ar6}')\n",
    "\n",
    "ele = ar6[1::2] \n",
    "ele\n"
   ]
  },
  {
   "cell_type": "code",
   "execution_count": 68,
   "metadata": {},
   "outputs": [
    {
     "name": "stdout",
     "output_type": "stream",
     "text": [
      "random 3x3 matrix wit value between 0 and 1 is \n",
      " [[0 1 1]\n",
      " [1 0 0]\n",
      " [1 0 0]]\n"
     ]
    }
   ],
   "source": [
    "# 7. How can you generate a random 3x3 matrix with values between 0 and 1?\n",
    "\n",
    "ar7 = np.random.randint(0,2,(3,3))\n",
    "print(f'random 3x3 matrix wit value between 0 and 1 is \\n {ar7}')"
   ]
  },
  {
   "cell_type": "markdown",
   "metadata": {},
   "source": [
    "8. Differences between np.random.rand and np.random.randn:\n",
    "\n",
    "np.random.rand:\n",
    "---------------\n",
    "Generates random values from a uniform distribution over the interval [0, 1).\n",
    "The generated numbers are uniformly distributed, meaning each value has an equal chance of being selected.\n",
    "Example usage: np.random.rand(3, 4) creates a 3x4 array with random values between 0 and 1.\n",
    "\n",
    "\n",
    "np.random.randn:\n",
    "----------------\n",
    "Generates random values from a standard normal distribution (also known as Gaussian distribution).\n",
    "The distribution has a mean of 0 and a variance of 1.\n",
    "The generated numbers follow a bell-shaped curve centered around 0.\n",
    "Example usage: np.random.randn(3, 4) creates a 3x4 array with random values sampled from the standard normal distribution.\n",
    "In summary:\n",
    "\n",
    "np.random.rand produces values from a uniform distribution.\n",
    "np.random.randn produces values from a standard normal distribution (Gaussian distribution) with mean 0 and variance 1123."
   ]
  },
  {
   "cell_type": "code",
   "execution_count": 69,
   "metadata": {},
   "outputs": [
    {
     "name": "stdout",
     "output_type": "stream",
     "text": [
      "[[0.62756047 0.06570889 0.51756102 0.56791877]\n",
      " [0.97027812 0.74413656 0.82771743 0.66052018]\n",
      " [0.26250084 0.66724919 0.49638068 0.566942  ]]\n",
      "[[-0.52340817 -1.15714486 -0.47584291  1.8793409 ]\n",
      " [ 1.16612447 -0.13399986 -0.34841348 -1.11517238]\n",
      " [-0.21848703 -1.04565572  1.18196206 -0.63385312]]\n"
     ]
    }
   ],
   "source": [
    "print(np.random.rand(3,4))\n",
    "print(np.random.randn(3,4))"
   ]
  },
  {
   "cell_type": "code",
   "execution_count": 70,
   "metadata": {},
   "outputs": [
    {
     "name": "stdout",
     "output_type": "stream",
     "text": [
      "array is \n",
      " [[ 1  2  3  4]\n",
      " [ 5  6  7  8]\n",
      " [ 9 10 11 12]]\n",
      "[[[ 1  2  3  4]\n",
      "  [ 5  6  7  8]\n",
      "  [ 9 10 11 12]]]\n",
      "old dimension is 2 and new dimension is 3 \n"
     ]
    }
   ],
   "source": [
    "# 9. Write code to increase the dimension of the following array?\n",
    "\n",
    "ar9 = np.array([[1, 2, 3, 4],\n",
    "[5, 6, 7, 8],\n",
    "[9, 10, 11, 12]])\n",
    "print(f'array is \\n {ar9}')\n",
    "\n",
    "new_arr9 = np.expand_dims(ar9,axis=0)\n",
    "print(new_arr9)\n",
    "print(f'old dimension is {ar9.ndim} and new dimension is {new_arr9.ndim} ')"
   ]
  },
  {
   "cell_type": "code",
   "execution_count": 71,
   "metadata": {},
   "outputs": [
    {
     "name": "stdout",
     "output_type": "stream",
     "text": [
      "array is \n",
      " [[ 1  2  3  4]\n",
      " [ 5  6  7  8]\n",
      " [ 9 10 11 12]]\n",
      "transposed array is \n",
      " [[ 1  5  9]\n",
      " [ 2  6 10]\n",
      " [ 3  7 11]\n",
      " [ 4  8 12]]\n"
     ]
    }
   ],
   "source": [
    "# 10. How to transpose the following array in NumPy?\n",
    "ar10 = np.array([[1, 2, 3, 4],\n",
    "[5, 6, 7, 8],\n",
    "[9, 10, 11, 12]])\n",
    "print(f'array is \\n {ar10}')\n",
    "\n",
    "trans_ar10 = ar10.T\n",
    "print(f'transposed array is \\n {trans_ar10}')"
   ]
  },
  {
   "cell_type": "code",
   "execution_count": 72,
   "metadata": {},
   "outputs": [
    {
     "name": "stdout",
     "output_type": "stream",
     "text": [
      "[[ 1  2  3  4]\n",
      " [ 5  6  7  8]\n",
      " [ 9 10 11 12]]\n",
      "[[ 1  2  3  4]\n",
      " [ 5  6  7  8]\n",
      " [ 9 10 11 12]]\n"
     ]
    }
   ],
   "source": [
    "# 11. Consider the following matrix:\n",
    "A2 = np.array( [[1, 2, 3, 4] , [5, 6, 7, 8],[9, 10, 11, 12]])\n",
    "B2 = np.array([[1, 2, 3, 4], [5, 6, 7, 8],[9, 10, 11, 12]])\n",
    "\n",
    "print(A2)\n",
    "print(B2)"
   ]
  },
  {
   "cell_type": "code",
   "execution_count": 73,
   "metadata": {},
   "outputs": [
    {
     "data": {
      "text/plain": [
       "array([[  1,   4,   9,  16],\n",
       "       [ 25,  36,  49,  64],\n",
       "       [ 81, 100, 121, 144]])"
      ]
     },
     "execution_count": 73,
     "metadata": {},
     "output_type": "execute_result"
    }
   ],
   "source": [
    "# Index wiLe multiplicatio\n",
    "A2*B2"
   ]
  },
  {
   "cell_type": "code",
   "execution_count": 79,
   "metadata": {},
   "outputs": [
    {
     "name": "stdout",
     "output_type": "stream",
     "text": [
      "[[ 1  2  3  4]\n",
      " [ 5  6  7  8]\n",
      " [ 9 10 11 12]\n",
      " [ 1  2  3  4]]\n",
      "[[ 1  2  3  4]\n",
      " [ 5  6  7  8]\n",
      " [ 9 10 11 12]\n",
      " [ 1  2  3  4]]\n"
     ]
    },
    {
     "data": {
      "text/plain": [
       "array([[ 42,  52,  62,  72],\n",
       "       [106, 132, 158, 184],\n",
       "       [170, 212, 254, 296],\n",
       "       [ 42,  52,  62,  72]])"
      ]
     },
     "execution_count": 79,
     "metadata": {},
     "output_type": "execute_result"
    }
   ],
   "source": [
    "# Matix multiplicatio\n",
    "a = np.array([[1, 2, 3, 4], [5, 6, 7, 8],[9, 10, 11, 12],[1,2,3,4]])\n",
    "a\n",
    "b= np.array([[1, 2, 3, 4], [5, 6, 7, 8],[9, 10, 11, 12],[1,2,3,4]])\n",
    "print(a)\n",
    "print(b)\n",
    "a @ b"
   ]
  },
  {
   "cell_type": "code",
   "execution_count": 81,
   "metadata": {},
   "outputs": [
    {
     "data": {
      "text/plain": [
       "array([[ 2,  4,  6,  8],\n",
       "       [10, 12, 14, 16],\n",
       "       [18, 20, 22, 24],\n",
       "       [ 2,  4,  6,  8]])"
      ]
     },
     "execution_count": 81,
     "metadata": {},
     "output_type": "execute_result"
    }
   ],
   "source": [
    "# Add both the matics\n",
    "a+b\n"
   ]
  },
  {
   "cell_type": "code",
   "execution_count": 85,
   "metadata": {},
   "outputs": [
    {
     "data": {
      "text/plain": [
       "array([[0, 0, 0, 0],\n",
       "       [0, 0, 0, 0],\n",
       "       [0, 0, 0, 0],\n",
       "       [0, 0, 0, 0]])"
      ]
     },
     "execution_count": 85,
     "metadata": {},
     "output_type": "execute_result"
    }
   ],
   "source": [
    "# Subtact matix B from A\n",
    "b-a"
   ]
  },
  {
   "cell_type": "code",
   "execution_count": 86,
   "metadata": {},
   "outputs": [
    {
     "data": {
      "text/plain": [
       "array([[1., 1., 1., 1.],\n",
       "       [1., 1., 1., 1.],\n",
       "       [1., 1., 1., 1.],\n",
       "       [1., 1., 1., 1.]])"
      ]
     },
     "execution_count": 86,
     "metadata": {},
     "output_type": "execute_result"
    }
   ],
   "source": [
    "# Divide Matix B by A\n",
    "b/a"
   ]
  },
  {
   "cell_type": "code",
   "execution_count": null,
   "metadata": {},
   "outputs": [],
   "source": [
    "# 12. Which function in Numpy can be used to swap the byte order of an array?\n",
    "\n",
    "\"\"\"To swap the byte order of a NumPy array, you have two options:\n",
    "\n",
    " arr.newbyteorder(): This method changes the byte-ordering information in the array dtype so that it interprets the underlying\n",
    " data as being in a different byte order. For example, if you have data from a big-endian machine but want to interpret \n",
    " it as little-endian, you can use this method1.\n",
    "\n",
    " arr.byteswap(): This method directly swaps the byte-ordering of the underlying data, leaving the dtype interpretation unchanged. \n",
    " It toggles between low-endian and big-endian data representation. Note that arrays of byte-strings are not swapped using this method.\n",
    "\n",
    " \"\"\""
   ]
  },
  {
   "cell_type": "code",
   "execution_count": null,
   "metadata": {},
   "outputs": [],
   "source": [
    "# 13. What is the significance of the np.linalg.inv function?\n",
    "\n",
    "\"\"\"\n",
    "The np.linalg.inv function in NumPy holds significant importance when working with matrices and linear algebra. Let me elaborate:\n",
    "\n",
    "Matrix Inversion:\n",
    "------------------\n",
    "The primary purpose of np.linalg.inv is to compute the multiplicative inverse of a square matrix. Given a matrix a, it returns the matrix ainv such that:a⋅ainv​=ainv​⋅a=I\n",
    "where I represents the identity matrix of the same shape as a.\n",
    "This inverse matrix is crucial in solving systems of linear equations, finding eigenvalues and eigenvectors, and performing other mathematical operations.\n",
    "\n",
    "Applications:\n",
    "------------------\n",
    "Linear Systems: When solving systems of linear equations, matrix inversion allows us to find the unknown variables efficiently.\n",
    "Least Squares Regression: In regression analysis, the inverse matrix helps compute the coefficients that minimize the sum of squared residuals.\n",
    "Eigenvalue Problems: Eigenvalues and eigenvectors are obtained using matrix inversion.\n",
    "Control Theory: In control systems, matrix inversion is used for state-space representation and stability analysis.\n",
    "Signal Processing: It plays a role in filtering, Fourier transforms, and convolution.\n",
    "\n",
    "Caveats:\n",
    "------------------\n",
    "Ensure that the input matrix a is square (i.e., has the same number of rows and columns). Otherwise, a LinAlgError will be raised.\n",
    "Matrix inversion can be computationally expensive, especially for large matrices. Consider other methods (such as solving linear systems) when possible.\n",
    "\n",
    "In summary, np.linalg.inv is a powerful tool for handling matrix operations and is widely used in scientific computing, engineering, and data analysis\n",
    "\"\"\""
   ]
  },
  {
   "cell_type": "code",
   "execution_count": null,
   "metadata": {},
   "outputs": [],
   "source": [
    "# 14. What does the np.reshape function do, and how is it used?\n",
    "\n",
    "\"\"\" \n",
    "It allows to change the shape of the array without chaning the data. \n",
    "\n",
    "\"\"\""
   ]
  },
  {
   "cell_type": "code",
   "execution_count": null,
   "metadata": {},
   "outputs": [],
   "source": [
    "# 15. What is broa^casting in Numpy?\n",
    "\n",
    "# It applies the function on operation on all the elements of the array"
   ]
  }
 ],
 "metadata": {
  "kernelspec": {
   "display_name": "mycondaenv",
   "language": "python",
   "name": "python3"
  },
  "language_info": {
   "codemirror_mode": {
    "name": "ipython",
    "version": 3
   },
   "file_extension": ".py",
   "mimetype": "text/x-python",
   "name": "python",
   "nbconvert_exporter": "python",
   "pygments_lexer": "ipython3",
   "version": "3.10.12"
  }
 },
 "nbformat": 4,
 "nbformat_minor": 2
}
